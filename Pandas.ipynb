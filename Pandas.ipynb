{
  "nbformat": 4,
  "nbformat_minor": 0,
  "metadata": {
    "colab": {
      "name": "Pandas.ipynb",
      "provenance": [],
      "collapsed_sections": [],
      "toc_visible": true,
      "mount_file_id": "1NpmEdzg-99nxjiViWk39gIK07052UC51",
      "authorship_tag": "ABX9TyNCC2TF4oWxsm0pnP12pBnb",
      "include_colab_link": true
    },
    "kernelspec": {
      "name": "python3",
      "display_name": "Python 3"
    }
  },
  "cells": [
    {
      "cell_type": "markdown",
      "metadata": {
        "id": "view-in-github",
        "colab_type": "text"
      },
      "source": [
        "<a href=\"https://colab.research.google.com/github/anjalisgrl/MyCaptain/blob/master/Pandas.ipynb\" target=\"_parent\"><img src=\"https://colab.research.google.com/assets/colab-badge.svg\" alt=\"Open In Colab\"/></a>"
      ]
    },
    {
      "cell_type": "markdown",
      "metadata": {
        "id": "jAyvCnVrqM7L",
        "colab_type": "text"
      },
      "source": [
        ""
      ]
    },
    {
      "cell_type": "markdown",
      "metadata": {
        "id": "g2eOX3V7qNtA",
        "colab_type": "text"
      },
      "source": [
        ""
      ]
    },
    {
      "cell_type": "code",
      "metadata": {
        "id": "E4OKnLnYpG7S",
        "colab_type": "code",
        "colab": {
          "base_uri": "https://localhost:8080/",
          "height": 124
        },
        "outputId": "cc93d031-540b-447e-eeef-6e0629c10a0c"
      },
      "source": [
        "!pip install pandas"
      ],
      "execution_count": 2,
      "outputs": [
        {
          "output_type": "stream",
          "text": [
            "Requirement already satisfied: pandas in /usr/local/lib/python3.6/dist-packages (1.0.3)\n",
            "Requirement already satisfied: python-dateutil>=2.6.1 in /usr/local/lib/python3.6/dist-packages (from pandas) (2.8.1)\n",
            "Requirement already satisfied: pytz>=2017.2 in /usr/local/lib/python3.6/dist-packages (from pandas) (2018.9)\n",
            "Requirement already satisfied: numpy>=1.13.3 in /usr/local/lib/python3.6/dist-packages (from pandas) (1.18.3)\n",
            "Requirement already satisfied: six>=1.5 in /usr/local/lib/python3.6/dist-packages (from python-dateutil>=2.6.1->pandas) (1.12.0)\n"
          ],
          "name": "stdout"
        }
      ]
    },
    {
      "cell_type": "code",
      "metadata": {
        "id": "fHGKpuKdqi5D",
        "colab_type": "code",
        "colab": {}
      },
      "source": [
        "import pandas as pd"
      ],
      "execution_count": 0,
      "outputs": []
    },
    {
      "cell_type": "code",
      "metadata": {
        "id": "JdTw7w08qmFY",
        "colab_type": "code",
        "colab": {}
      },
      "source": [
        "data = {\n",
        "    \"col1\" : [1,2,3,4],\n",
        "    \"col2\" : [5,6,7,8]\n",
        "}"
      ],
      "execution_count": 0,
      "outputs": []
    },
    {
      "cell_type": "code",
      "metadata": {
        "id": "_uUgOkKkqm8P",
        "colab_type": "code",
        "colab": {}
      },
      "source": [
        "new_lib = pd.DataFrame(data)"
      ],
      "execution_count": 0,
      "outputs": []
    },
    {
      "cell_type": "code",
      "metadata": {
        "id": "9TBabhbSrsaM",
        "colab_type": "code",
        "colab": {
          "base_uri": "https://localhost:8080/",
          "height": 171
        },
        "outputId": "50d3d2f5-35ce-4f93-de19-d8d3a9042fa3"
      },
      "source": [
        "new_lib"
      ],
      "execution_count": 9,
      "outputs": [
        {
          "output_type": "execute_result",
          "data": {
            "text/html": [
              "<div>\n",
              "<style scoped>\n",
              "    .dataframe tbody tr th:only-of-type {\n",
              "        vertical-align: middle;\n",
              "    }\n",
              "\n",
              "    .dataframe tbody tr th {\n",
              "        vertical-align: top;\n",
              "    }\n",
              "\n",
              "    .dataframe thead th {\n",
              "        text-align: right;\n",
              "    }\n",
              "</style>\n",
              "<table border=\"1\" class=\"dataframe\">\n",
              "  <thead>\n",
              "    <tr style=\"text-align: right;\">\n",
              "      <th></th>\n",
              "      <th>col1</th>\n",
              "      <th>col2</th>\n",
              "    </tr>\n",
              "  </thead>\n",
              "  <tbody>\n",
              "    <tr>\n",
              "      <th>0</th>\n",
              "      <td>1</td>\n",
              "      <td>5</td>\n",
              "    </tr>\n",
              "    <tr>\n",
              "      <th>1</th>\n",
              "      <td>2</td>\n",
              "      <td>6</td>\n",
              "    </tr>\n",
              "    <tr>\n",
              "      <th>2</th>\n",
              "      <td>3</td>\n",
              "      <td>7</td>\n",
              "    </tr>\n",
              "    <tr>\n",
              "      <th>3</th>\n",
              "      <td>4</td>\n",
              "      <td>8</td>\n",
              "    </tr>\n",
              "  </tbody>\n",
              "</table>\n",
              "</div>"
            ],
            "text/plain": [
              "   col1  col2\n",
              "0     1     5\n",
              "1     2     6\n",
              "2     3     7\n",
              "3     4     8"
            ]
          },
          "metadata": {
            "tags": []
          },
          "execution_count": 9
        }
      ]
    },
    {
      "cell_type": "code",
      "metadata": {
        "id": "zk4isX6TrzhW",
        "colab_type": "code",
        "colab": {}
      },
      "source": [
        "new_lib = pd.DataFrame(data, index=[\"row1\",\"row2\",\"row3\",\"row4\"])"
      ],
      "execution_count": 0,
      "outputs": []
    },
    {
      "cell_type": "code",
      "metadata": {
        "id": "exPJq75Vrz5S",
        "colab_type": "code",
        "colab": {
          "base_uri": "https://localhost:8080/",
          "height": 171
        },
        "outputId": "97e24f42-d42b-40d8-9bc9-9c29a9e79d6e"
      },
      "source": [
        "new_lib"
      ],
      "execution_count": 11,
      "outputs": [
        {
          "output_type": "execute_result",
          "data": {
            "text/html": [
              "<div>\n",
              "<style scoped>\n",
              "    .dataframe tbody tr th:only-of-type {\n",
              "        vertical-align: middle;\n",
              "    }\n",
              "\n",
              "    .dataframe tbody tr th {\n",
              "        vertical-align: top;\n",
              "    }\n",
              "\n",
              "    .dataframe thead th {\n",
              "        text-align: right;\n",
              "    }\n",
              "</style>\n",
              "<table border=\"1\" class=\"dataframe\">\n",
              "  <thead>\n",
              "    <tr style=\"text-align: right;\">\n",
              "      <th></th>\n",
              "      <th>col1</th>\n",
              "      <th>col2</th>\n",
              "    </tr>\n",
              "  </thead>\n",
              "  <tbody>\n",
              "    <tr>\n",
              "      <th>row1</th>\n",
              "      <td>1</td>\n",
              "      <td>5</td>\n",
              "    </tr>\n",
              "    <tr>\n",
              "      <th>row2</th>\n",
              "      <td>2</td>\n",
              "      <td>6</td>\n",
              "    </tr>\n",
              "    <tr>\n",
              "      <th>row3</th>\n",
              "      <td>3</td>\n",
              "      <td>7</td>\n",
              "    </tr>\n",
              "    <tr>\n",
              "      <th>row4</th>\n",
              "      <td>4</td>\n",
              "      <td>8</td>\n",
              "    </tr>\n",
              "  </tbody>\n",
              "</table>\n",
              "</div>"
            ],
            "text/plain": [
              "      col1  col2\n",
              "row1     1     5\n",
              "row2     2     6\n",
              "row3     3     7\n",
              "row4     4     8"
            ]
          },
          "metadata": {
            "tags": []
          },
          "execution_count": 11
        }
      ]
    },
    {
      "cell_type": "code",
      "metadata": {
        "id": "9ADFff48r0LU",
        "colab_type": "code",
        "colab": {
          "base_uri": "https://localhost:8080/",
          "height": 69
        },
        "outputId": "3daf26e9-f585-4b13-c900-0731ad7c3433"
      },
      "source": [
        "new_lib.loc['row3']"
      ],
      "execution_count": 12,
      "outputs": [
        {
          "output_type": "execute_result",
          "data": {
            "text/plain": [
              "col1    3\n",
              "col2    7\n",
              "Name: row3, dtype: int64"
            ]
          },
          "metadata": {
            "tags": []
          },
          "execution_count": 12
        }
      ]
    },
    {
      "cell_type": "code",
      "metadata": {
        "id": "ks2IxyG6r0a4",
        "colab_type": "code",
        "colab": {
          "base_uri": "https://localhost:8080/",
          "height": 35
        },
        "outputId": "d8b98810-45d1-4e36-fe39-d0f23dea5016"
      },
      "source": [
        "from google.colab import drive\n",
        "drive.mount('/content/gdrive')"
      ],
      "execution_count": 20,
      "outputs": [
        {
          "output_type": "stream",
          "text": [
            "Mounted at /content/gdrive\n"
          ],
          "name": "stdout"
        }
      ]
    },
    {
      "cell_type": "code",
      "metadata": {
        "id": "tE6OxwoNuOYa",
        "colab_type": "code",
        "colab": {
          "base_uri": "https://localhost:8080/",
          "height": 35
        },
        "outputId": "45a87797-72fc-4825-e6e4-f7d8ba03ac71"
      },
      "source": [
        "from google.colab import drive\n",
        "drive.mount('/content/drive')"
      ],
      "execution_count": 18,
      "outputs": [
        {
          "output_type": "stream",
          "text": [
            "Mounted at /content/drive\n"
          ],
          "name": "stdout"
        }
      ]
    },
    {
      "cell_type": "code",
      "metadata": {
        "id": "DP6upkLmuOvn",
        "colab_type": "code",
        "colab": {}
      },
      "source": [
        "root_path = '/content/gdrive/My Drive/Colab Notebooks/marine.csv'"
      ],
      "execution_count": 0,
      "outputs": []
    },
    {
      "cell_type": "code",
      "metadata": {
        "id": "ODWY4qrvU9rt",
        "colab_type": "code",
        "colab": {
          "base_uri": "https://localhost:8080/",
          "height": 69
        },
        "outputId": "146d42a8-1f12-4cf0-f6c0-390d320e379a"
      },
      "source": [
        "!ls /content/gdrive/My Drive/Colab Notebooks/marine.csv"
      ],
      "execution_count": 24,
      "outputs": [
        {
          "output_type": "stream",
          "text": [
            "ls: cannot access '/content/gdrive/My': No such file or directory\n",
            "ls: cannot access 'Drive/Colab': No such file or directory\n",
            "ls: cannot access 'Notebooks/marine.csv': No such file or directory\n"
          ],
          "name": "stdout"
        }
      ]
    },
    {
      "cell_type": "code",
      "metadata": {
        "id": "tukOR2i5uO_k",
        "colab_type": "code",
        "colab": {}
      },
      "source": [
        "url ='https://raw.githubusercontent.com/anjalisgrl/MyCaptain/master/marine%20-%20marine.csv'"
      ],
      "execution_count": 0,
      "outputs": []
    },
    {
      "cell_type": "code",
      "metadata": {
        "id": "ZoTHVMn6uPN4",
        "colab_type": "code",
        "colab": {}
      },
      "source": [
        "dataframe = pd.read_csv(url)"
      ],
      "execution_count": 0,
      "outputs": []
    },
    {
      "cell_type": "code",
      "metadata": {
        "id": "zMeTnVVjuQFw",
        "colab_type": "code",
        "colab": {
          "base_uri": "https://localhost:8080/",
          "height": 1000
        },
        "outputId": "fd7a1fa2-1f06-492e-9278-10db539923e7"
      },
      "source": [
        "dataframe"
      ],
      "execution_count": 27,
      "outputs": [
        {
          "output_type": "execute_result",
          "data": {
            "text/html": [
              "<div>\n",
              "<style scoped>\n",
              "    .dataframe tbody tr th:only-of-type {\n",
              "        vertical-align: middle;\n",
              "    }\n",
              "\n",
              "    .dataframe tbody tr th {\n",
              "        vertical-align: top;\n",
              "    }\n",
              "\n",
              "    .dataframe thead th {\n",
              "        text-align: right;\n",
              "    }\n",
              "</style>\n",
              "<table border=\"1\" class=\"dataframe\">\n",
              "  <thead>\n",
              "    <tr style=\"text-align: right;\">\n",
              "      <th></th>\n",
              "      <th>year</th>\n",
              "      <th>category</th>\n",
              "      <th>variable</th>\n",
              "      <th>units</th>\n",
              "      <th>magnitude</th>\n",
              "      <th>source</th>\n",
              "      <th>data_value</th>\n",
              "      <th>flag</th>\n",
              "    </tr>\n",
              "  </thead>\n",
              "  <tbody>\n",
              "    <tr>\n",
              "      <th>0</th>\n",
              "      <td>2007</td>\n",
              "      <td>Fisheries and aquaculture</td>\n",
              "      <td>Cont. to ME Wage and salary earners</td>\n",
              "      <td>Proportion</td>\n",
              "      <td>Actual</td>\n",
              "      <td>LEED</td>\n",
              "      <td>43.1</td>\n",
              "      <td>R</td>\n",
              "    </tr>\n",
              "    <tr>\n",
              "      <th>1</th>\n",
              "      <td>2007</td>\n",
              "      <td>Fisheries and aquaculture</td>\n",
              "      <td>Contribution to marine economy GDP</td>\n",
              "      <td>Proportion</td>\n",
              "      <td>Actual</td>\n",
              "      <td>Environmental Accounts</td>\n",
              "      <td>26.3</td>\n",
              "      <td>F</td>\n",
              "    </tr>\n",
              "    <tr>\n",
              "      <th>2</th>\n",
              "      <td>2007</td>\n",
              "      <td>Fisheries and aquaculture</td>\n",
              "      <td>Contribution to marine economy earnings</td>\n",
              "      <td>Proportion</td>\n",
              "      <td>Actual</td>\n",
              "      <td>LEED</td>\n",
              "      <td>42.7</td>\n",
              "      <td>R</td>\n",
              "    </tr>\n",
              "    <tr>\n",
              "      <th>3</th>\n",
              "      <td>2007</td>\n",
              "      <td>Fisheries and aquaculture</td>\n",
              "      <td>Contribution to total GDP</td>\n",
              "      <td>Proportion</td>\n",
              "      <td>Actual</td>\n",
              "      <td>Environmental Accounts</td>\n",
              "      <td>0.4</td>\n",
              "      <td>F</td>\n",
              "    </tr>\n",
              "    <tr>\n",
              "      <th>4</th>\n",
              "      <td>2007</td>\n",
              "      <td>Fisheries and aquaculture</td>\n",
              "      <td>GDP</td>\n",
              "      <td>Dollars</td>\n",
              "      <td>Thousands</td>\n",
              "      <td>Environmental Accounts</td>\n",
              "      <td>715722.0</td>\n",
              "      <td>F</td>\n",
              "    </tr>\n",
              "    <tr>\n",
              "      <th>5</th>\n",
              "      <td>2007</td>\n",
              "      <td>Fisheries and aquaculture</td>\n",
              "      <td>Gross earnings</td>\n",
              "      <td>Dollars</td>\n",
              "      <td>Thousands</td>\n",
              "      <td>LEED</td>\n",
              "      <td>582377.0</td>\n",
              "      <td>F</td>\n",
              "    </tr>\n",
              "    <tr>\n",
              "      <th>6</th>\n",
              "      <td>2007</td>\n",
              "      <td>Fisheries and aquaculture</td>\n",
              "      <td>Wage and salary earners</td>\n",
              "      <td>Number</td>\n",
              "      <td>Actual</td>\n",
              "      <td>LEED</td>\n",
              "      <td>14004.0</td>\n",
              "      <td>F</td>\n",
              "    </tr>\n",
              "    <tr>\n",
              "      <th>7</th>\n",
              "      <td>2008</td>\n",
              "      <td>Fisheries and aquaculture</td>\n",
              "      <td>Cont. to ME Wage and salary earners</td>\n",
              "      <td>Proportion</td>\n",
              "      <td>Actual</td>\n",
              "      <td>LEED</td>\n",
              "      <td>39.9</td>\n",
              "      <td>R</td>\n",
              "    </tr>\n",
              "    <tr>\n",
              "      <th>8</th>\n",
              "      <td>2008</td>\n",
              "      <td>Fisheries and aquaculture</td>\n",
              "      <td>Contribution to marine economy GDP</td>\n",
              "      <td>Proportion</td>\n",
              "      <td>Actual</td>\n",
              "      <td>Environmental Accounts</td>\n",
              "      <td>14.2</td>\n",
              "      <td>F</td>\n",
              "    </tr>\n",
              "    <tr>\n",
              "      <th>9</th>\n",
              "      <td>2008</td>\n",
              "      <td>Fisheries and aquaculture</td>\n",
              "      <td>Contribution to marine economy earnings</td>\n",
              "      <td>Proportion</td>\n",
              "      <td>Actual</td>\n",
              "      <td>LEED</td>\n",
              "      <td>40.3</td>\n",
              "      <td>R</td>\n",
              "    </tr>\n",
              "    <tr>\n",
              "      <th>10</th>\n",
              "      <td>2008</td>\n",
              "      <td>Fisheries and aquaculture</td>\n",
              "      <td>Contribution to total GDP</td>\n",
              "      <td>Proportion</td>\n",
              "      <td>Actual</td>\n",
              "      <td>Environmental Accounts</td>\n",
              "      <td>0.3</td>\n",
              "      <td>F</td>\n",
              "    </tr>\n",
              "    <tr>\n",
              "      <th>11</th>\n",
              "      <td>2008</td>\n",
              "      <td>Fisheries and aquaculture</td>\n",
              "      <td>GDP</td>\n",
              "      <td>Dollars</td>\n",
              "      <td>Thousands</td>\n",
              "      <td>Environmental Accounts</td>\n",
              "      <td>564630.0</td>\n",
              "      <td>F</td>\n",
              "    </tr>\n",
              "    <tr>\n",
              "      <th>12</th>\n",
              "      <td>2008</td>\n",
              "      <td>Fisheries and aquaculture</td>\n",
              "      <td>Gross earnings</td>\n",
              "      <td>Dollars</td>\n",
              "      <td>Thousands</td>\n",
              "      <td>LEED</td>\n",
              "      <td>583605.0</td>\n",
              "      <td>F</td>\n",
              "    </tr>\n",
              "    <tr>\n",
              "      <th>13</th>\n",
              "      <td>2008</td>\n",
              "      <td>Fisheries and aquaculture</td>\n",
              "      <td>Wage and salary earners</td>\n",
              "      <td>Number</td>\n",
              "      <td>Actual</td>\n",
              "      <td>LEED</td>\n",
              "      <td>12774.0</td>\n",
              "      <td>F</td>\n",
              "    </tr>\n",
              "    <tr>\n",
              "      <th>14</th>\n",
              "      <td>2009</td>\n",
              "      <td>Fisheries and aquaculture</td>\n",
              "      <td>Cont. to ME Wage and salary earners</td>\n",
              "      <td>Proportion</td>\n",
              "      <td>Actual</td>\n",
              "      <td>LEED</td>\n",
              "      <td>35.6</td>\n",
              "      <td>R</td>\n",
              "    </tr>\n",
              "    <tr>\n",
              "      <th>15</th>\n",
              "      <td>2009</td>\n",
              "      <td>Fisheries and aquaculture</td>\n",
              "      <td>Contribution to marine economy GDP</td>\n",
              "      <td>Proportion</td>\n",
              "      <td>Actual</td>\n",
              "      <td>Environmental Accounts</td>\n",
              "      <td>17.0</td>\n",
              "      <td>F</td>\n",
              "    </tr>\n",
              "    <tr>\n",
              "      <th>16</th>\n",
              "      <td>2009</td>\n",
              "      <td>Fisheries and aquaculture</td>\n",
              "      <td>Contribution to marine economy earnings</td>\n",
              "      <td>Proportion</td>\n",
              "      <td>Actual</td>\n",
              "      <td>LEED</td>\n",
              "      <td>38.3</td>\n",
              "      <td>R</td>\n",
              "    </tr>\n",
              "    <tr>\n",
              "      <th>17</th>\n",
              "      <td>2009</td>\n",
              "      <td>Fisheries and aquaculture</td>\n",
              "      <td>Contribution to total GDP</td>\n",
              "      <td>Proportion</td>\n",
              "      <td>Actual</td>\n",
              "      <td>Environmental Accounts</td>\n",
              "      <td>0.4</td>\n",
              "      <td>F</td>\n",
              "    </tr>\n",
              "    <tr>\n",
              "      <th>18</th>\n",
              "      <td>2009</td>\n",
              "      <td>Fisheries and aquaculture</td>\n",
              "      <td>GDP</td>\n",
              "      <td>Dollars</td>\n",
              "      <td>Thousands</td>\n",
              "      <td>Environmental Accounts</td>\n",
              "      <td>688801.0</td>\n",
              "      <td>F</td>\n",
              "    </tr>\n",
              "    <tr>\n",
              "      <th>19</th>\n",
              "      <td>2009</td>\n",
              "      <td>Fisheries and aquaculture</td>\n",
              "      <td>Gross earnings</td>\n",
              "      <td>Dollars</td>\n",
              "      <td>Thousands</td>\n",
              "      <td>LEED</td>\n",
              "      <td>567367.0</td>\n",
              "      <td>F</td>\n",
              "    </tr>\n",
              "  </tbody>\n",
              "</table>\n",
              "</div>"
            ],
            "text/plain": [
              "    year                   category  ... data_value flag\n",
              "0   2007  Fisheries and aquaculture  ...       43.1    R\n",
              "1   2007  Fisheries and aquaculture  ...       26.3    F\n",
              "2   2007  Fisheries and aquaculture  ...       42.7    R\n",
              "3   2007  Fisheries and aquaculture  ...        0.4    F\n",
              "4   2007  Fisheries and aquaculture  ...   715722.0    F\n",
              "5   2007  Fisheries and aquaculture  ...   582377.0    F\n",
              "6   2007  Fisheries and aquaculture  ...    14004.0    F\n",
              "7   2008  Fisheries and aquaculture  ...       39.9    R\n",
              "8   2008  Fisheries and aquaculture  ...       14.2    F\n",
              "9   2008  Fisheries and aquaculture  ...       40.3    R\n",
              "10  2008  Fisheries and aquaculture  ...        0.3    F\n",
              "11  2008  Fisheries and aquaculture  ...   564630.0    F\n",
              "12  2008  Fisheries and aquaculture  ...   583605.0    F\n",
              "13  2008  Fisheries and aquaculture  ...    12774.0    F\n",
              "14  2009  Fisheries and aquaculture  ...       35.6    R\n",
              "15  2009  Fisheries and aquaculture  ...       17.0    F\n",
              "16  2009  Fisheries and aquaculture  ...       38.3    R\n",
              "17  2009  Fisheries and aquaculture  ...        0.4    F\n",
              "18  2009  Fisheries and aquaculture  ...   688801.0    F\n",
              "19  2009  Fisheries and aquaculture  ...   567367.0    F\n",
              "\n",
              "[20 rows x 8 columns]"
            ]
          },
          "metadata": {
            "tags": []
          },
          "execution_count": 27
        }
      ]
    },
    {
      "cell_type": "code",
      "metadata": {
        "id": "Iuw2kWAouQVB",
        "colab_type": "code",
        "colab": {
          "base_uri": "https://localhost:8080/",
          "height": 145
        },
        "outputId": "0650fc1e-f82b-426d-cd2b-527a14677e32"
      },
      "source": [
        "dataframe.head(2)"
      ],
      "execution_count": 28,
      "outputs": [
        {
          "output_type": "execute_result",
          "data": {
            "text/html": [
              "<div>\n",
              "<style scoped>\n",
              "    .dataframe tbody tr th:only-of-type {\n",
              "        vertical-align: middle;\n",
              "    }\n",
              "\n",
              "    .dataframe tbody tr th {\n",
              "        vertical-align: top;\n",
              "    }\n",
              "\n",
              "    .dataframe thead th {\n",
              "        text-align: right;\n",
              "    }\n",
              "</style>\n",
              "<table border=\"1\" class=\"dataframe\">\n",
              "  <thead>\n",
              "    <tr style=\"text-align: right;\">\n",
              "      <th></th>\n",
              "      <th>year</th>\n",
              "      <th>category</th>\n",
              "      <th>variable</th>\n",
              "      <th>units</th>\n",
              "      <th>magnitude</th>\n",
              "      <th>source</th>\n",
              "      <th>data_value</th>\n",
              "      <th>flag</th>\n",
              "    </tr>\n",
              "  </thead>\n",
              "  <tbody>\n",
              "    <tr>\n",
              "      <th>0</th>\n",
              "      <td>2007</td>\n",
              "      <td>Fisheries and aquaculture</td>\n",
              "      <td>Cont. to ME Wage and salary earners</td>\n",
              "      <td>Proportion</td>\n",
              "      <td>Actual</td>\n",
              "      <td>LEED</td>\n",
              "      <td>43.1</td>\n",
              "      <td>R</td>\n",
              "    </tr>\n",
              "    <tr>\n",
              "      <th>1</th>\n",
              "      <td>2007</td>\n",
              "      <td>Fisheries and aquaculture</td>\n",
              "      <td>Contribution to marine economy GDP</td>\n",
              "      <td>Proportion</td>\n",
              "      <td>Actual</td>\n",
              "      <td>Environmental Accounts</td>\n",
              "      <td>26.3</td>\n",
              "      <td>F</td>\n",
              "    </tr>\n",
              "  </tbody>\n",
              "</table>\n",
              "</div>"
            ],
            "text/plain": [
              "   year                   category  ... data_value flag\n",
              "0  2007  Fisheries and aquaculture  ...       43.1    R\n",
              "1  2007  Fisheries and aquaculture  ...       26.3    F\n",
              "\n",
              "[2 rows x 8 columns]"
            ]
          },
          "metadata": {
            "tags": []
          },
          "execution_count": 28
        }
      ]
    },
    {
      "cell_type": "code",
      "metadata": {
        "id": "XWJVhk7yuQjm",
        "colab_type": "code",
        "colab": {
          "base_uri": "https://localhost:8080/",
          "height": 193
        },
        "outputId": "3139440f-d25c-4ab2-fd9a-4b6669e69c33"
      },
      "source": [
        "dataframe.tail(3)"
      ],
      "execution_count": 29,
      "outputs": [
        {
          "output_type": "execute_result",
          "data": {
            "text/html": [
              "<div>\n",
              "<style scoped>\n",
              "    .dataframe tbody tr th:only-of-type {\n",
              "        vertical-align: middle;\n",
              "    }\n",
              "\n",
              "    .dataframe tbody tr th {\n",
              "        vertical-align: top;\n",
              "    }\n",
              "\n",
              "    .dataframe thead th {\n",
              "        text-align: right;\n",
              "    }\n",
              "</style>\n",
              "<table border=\"1\" class=\"dataframe\">\n",
              "  <thead>\n",
              "    <tr style=\"text-align: right;\">\n",
              "      <th></th>\n",
              "      <th>year</th>\n",
              "      <th>category</th>\n",
              "      <th>variable</th>\n",
              "      <th>units</th>\n",
              "      <th>magnitude</th>\n",
              "      <th>source</th>\n",
              "      <th>data_value</th>\n",
              "      <th>flag</th>\n",
              "    </tr>\n",
              "  </thead>\n",
              "  <tbody>\n",
              "    <tr>\n",
              "      <th>17</th>\n",
              "      <td>2009</td>\n",
              "      <td>Fisheries and aquaculture</td>\n",
              "      <td>Contribution to total GDP</td>\n",
              "      <td>Proportion</td>\n",
              "      <td>Actual</td>\n",
              "      <td>Environmental Accounts</td>\n",
              "      <td>0.4</td>\n",
              "      <td>F</td>\n",
              "    </tr>\n",
              "    <tr>\n",
              "      <th>18</th>\n",
              "      <td>2009</td>\n",
              "      <td>Fisheries and aquaculture</td>\n",
              "      <td>GDP</td>\n",
              "      <td>Dollars</td>\n",
              "      <td>Thousands</td>\n",
              "      <td>Environmental Accounts</td>\n",
              "      <td>688801.0</td>\n",
              "      <td>F</td>\n",
              "    </tr>\n",
              "    <tr>\n",
              "      <th>19</th>\n",
              "      <td>2009</td>\n",
              "      <td>Fisheries and aquaculture</td>\n",
              "      <td>Gross earnings</td>\n",
              "      <td>Dollars</td>\n",
              "      <td>Thousands</td>\n",
              "      <td>LEED</td>\n",
              "      <td>567367.0</td>\n",
              "      <td>F</td>\n",
              "    </tr>\n",
              "  </tbody>\n",
              "</table>\n",
              "</div>"
            ],
            "text/plain": [
              "    year                   category  ... data_value flag\n",
              "17  2009  Fisheries and aquaculture  ...        0.4    F\n",
              "18  2009  Fisheries and aquaculture  ...   688801.0    F\n",
              "19  2009  Fisheries and aquaculture  ...   567367.0    F\n",
              "\n",
              "[3 rows x 8 columns]"
            ]
          },
          "metadata": {
            "tags": []
          },
          "execution_count": 29
        }
      ]
    },
    {
      "cell_type": "code",
      "metadata": {
        "id": "LcJJVFKLuQx6",
        "colab_type": "code",
        "colab": {
          "base_uri": "https://localhost:8080/",
          "height": 277
        },
        "outputId": "cdd2bb9e-6375-4342-ff43-3e8f2a9316ce"
      },
      "source": [
        "dataframe.info()"
      ],
      "execution_count": 31,
      "outputs": [
        {
          "output_type": "stream",
          "text": [
            "<class 'pandas.core.frame.DataFrame'>\n",
            "RangeIndex: 20 entries, 0 to 19\n",
            "Data columns (total 8 columns):\n",
            " #   Column      Non-Null Count  Dtype  \n",
            "---  ------      --------------  -----  \n",
            " 0   year        20 non-null     int64  \n",
            " 1   category    20 non-null     object \n",
            " 2   variable    20 non-null     object \n",
            " 3   units       20 non-null     object \n",
            " 4   magnitude   20 non-null     object \n",
            " 5   source      20 non-null     object \n",
            " 6   data_value  20 non-null     float64\n",
            " 7   flag        20 non-null     object \n",
            "dtypes: float64(1), int64(1), object(6)\n",
            "memory usage: 1.4+ KB\n"
          ],
          "name": "stdout"
        }
      ]
    },
    {
      "cell_type": "code",
      "metadata": {
        "id": "s4rLKconuRFT",
        "colab_type": "code",
        "colab": {}
      },
      "source": [
        "year_col = dataframe['year']"
      ],
      "execution_count": 0,
      "outputs": []
    },
    {
      "cell_type": "code",
      "metadata": {
        "id": "Qf5J2Vv9XpE9",
        "colab_type": "code",
        "colab": {
          "base_uri": "https://localhost:8080/",
          "height": 381
        },
        "outputId": "5b798946-a4e3-4f67-b181-2a4011c2038c"
      },
      "source": [
        "year_col"
      ],
      "execution_count": 33,
      "outputs": [
        {
          "output_type": "execute_result",
          "data": {
            "text/plain": [
              "0     2007\n",
              "1     2007\n",
              "2     2007\n",
              "3     2007\n",
              "4     2007\n",
              "5     2007\n",
              "6     2007\n",
              "7     2008\n",
              "8     2008\n",
              "9     2008\n",
              "10    2008\n",
              "11    2008\n",
              "12    2008\n",
              "13    2008\n",
              "14    2009\n",
              "15    2009\n",
              "16    2009\n",
              "17    2009\n",
              "18    2009\n",
              "19    2009\n",
              "Name: year, dtype: int64"
            ]
          },
          "metadata": {
            "tags": []
          },
          "execution_count": 33
        }
      ]
    },
    {
      "cell_type": "code",
      "metadata": {
        "id": "862zIuogXqME",
        "colab_type": "code",
        "colab": {}
      },
      "source": [
        "year_list = list(year_col)"
      ],
      "execution_count": 0,
      "outputs": []
    },
    {
      "cell_type": "code",
      "metadata": {
        "id": "N5LJT-2VXqgo",
        "colab_type": "code",
        "colab": {
          "base_uri": "https://localhost:8080/",
          "height": 364
        },
        "outputId": "2d98adf2-6215-4145-d2ce-aae8e779ba06"
      },
      "source": [
        "year_list"
      ],
      "execution_count": 36,
      "outputs": [
        {
          "output_type": "execute_result",
          "data": {
            "text/plain": [
              "[2007,\n",
              " 2007,\n",
              " 2007,\n",
              " 2007,\n",
              " 2007,\n",
              " 2007,\n",
              " 2007,\n",
              " 2008,\n",
              " 2008,\n",
              " 2008,\n",
              " 2008,\n",
              " 2008,\n",
              " 2008,\n",
              " 2008,\n",
              " 2009,\n",
              " 2009,\n",
              " 2009,\n",
              " 2009,\n",
              " 2009,\n",
              " 2009]"
            ]
          },
          "metadata": {
            "tags": []
          },
          "execution_count": 36
        }
      ]
    },
    {
      "cell_type": "code",
      "metadata": {
        "id": "29MTwoHOXusQ",
        "colab_type": "code",
        "colab": {
          "base_uri": "https://localhost:8080/",
          "height": 35
        },
        "outputId": "c2c38e00-aa99-42ed-9539-d36fcd9f1ebf"
      },
      "source": [
        "type(year_col)"
      ],
      "execution_count": 37,
      "outputs": [
        {
          "output_type": "execute_result",
          "data": {
            "text/plain": [
              "pandas.core.series.Series"
            ]
          },
          "metadata": {
            "tags": []
          },
          "execution_count": 37
        }
      ]
    },
    {
      "cell_type": "code",
      "metadata": {
        "id": "tHj56_bKXvFv",
        "colab_type": "code",
        "colab": {
          "base_uri": "https://localhost:8080/",
          "height": 35
        },
        "outputId": "48df6b40-255a-44fb-bb04-2beb01ae4be5"
      },
      "source": [
        "type(year_list)"
      ],
      "execution_count": 38,
      "outputs": [
        {
          "output_type": "execute_result",
          "data": {
            "text/plain": [
              "list"
            ]
          },
          "metadata": {
            "tags": []
          },
          "execution_count": 38
        }
      ]
    },
    {
      "cell_type": "code",
      "metadata": {
        "id": "tUK46mLPXlZU",
        "colab_type": "code",
        "colab": {
          "base_uri": "https://localhost:8080/",
          "height": 1000
        },
        "outputId": "1db578cb-ac62-43f7-f478-f5a482d454ef"
      },
      "source": [
        "dataframe"
      ],
      "execution_count": 39,
      "outputs": [
        {
          "output_type": "execute_result",
          "data": {
            "text/html": [
              "<div>\n",
              "<style scoped>\n",
              "    .dataframe tbody tr th:only-of-type {\n",
              "        vertical-align: middle;\n",
              "    }\n",
              "\n",
              "    .dataframe tbody tr th {\n",
              "        vertical-align: top;\n",
              "    }\n",
              "\n",
              "    .dataframe thead th {\n",
              "        text-align: right;\n",
              "    }\n",
              "</style>\n",
              "<table border=\"1\" class=\"dataframe\">\n",
              "  <thead>\n",
              "    <tr style=\"text-align: right;\">\n",
              "      <th></th>\n",
              "      <th>year</th>\n",
              "      <th>category</th>\n",
              "      <th>variable</th>\n",
              "      <th>units</th>\n",
              "      <th>magnitude</th>\n",
              "      <th>source</th>\n",
              "      <th>data_value</th>\n",
              "      <th>flag</th>\n",
              "    </tr>\n",
              "  </thead>\n",
              "  <tbody>\n",
              "    <tr>\n",
              "      <th>0</th>\n",
              "      <td>2007</td>\n",
              "      <td>Fisheries and aquaculture</td>\n",
              "      <td>Cont. to ME Wage and salary earners</td>\n",
              "      <td>Proportion</td>\n",
              "      <td>Actual</td>\n",
              "      <td>LEED</td>\n",
              "      <td>43.1</td>\n",
              "      <td>R</td>\n",
              "    </tr>\n",
              "    <tr>\n",
              "      <th>1</th>\n",
              "      <td>2007</td>\n",
              "      <td>Fisheries and aquaculture</td>\n",
              "      <td>Contribution to marine economy GDP</td>\n",
              "      <td>Proportion</td>\n",
              "      <td>Actual</td>\n",
              "      <td>Environmental Accounts</td>\n",
              "      <td>26.3</td>\n",
              "      <td>F</td>\n",
              "    </tr>\n",
              "    <tr>\n",
              "      <th>2</th>\n",
              "      <td>2007</td>\n",
              "      <td>Fisheries and aquaculture</td>\n",
              "      <td>Contribution to marine economy earnings</td>\n",
              "      <td>Proportion</td>\n",
              "      <td>Actual</td>\n",
              "      <td>LEED</td>\n",
              "      <td>42.7</td>\n",
              "      <td>R</td>\n",
              "    </tr>\n",
              "    <tr>\n",
              "      <th>3</th>\n",
              "      <td>2007</td>\n",
              "      <td>Fisheries and aquaculture</td>\n",
              "      <td>Contribution to total GDP</td>\n",
              "      <td>Proportion</td>\n",
              "      <td>Actual</td>\n",
              "      <td>Environmental Accounts</td>\n",
              "      <td>0.4</td>\n",
              "      <td>F</td>\n",
              "    </tr>\n",
              "    <tr>\n",
              "      <th>4</th>\n",
              "      <td>2007</td>\n",
              "      <td>Fisheries and aquaculture</td>\n",
              "      <td>GDP</td>\n",
              "      <td>Dollars</td>\n",
              "      <td>Thousands</td>\n",
              "      <td>Environmental Accounts</td>\n",
              "      <td>715722.0</td>\n",
              "      <td>F</td>\n",
              "    </tr>\n",
              "    <tr>\n",
              "      <th>5</th>\n",
              "      <td>2007</td>\n",
              "      <td>Fisheries and aquaculture</td>\n",
              "      <td>Gross earnings</td>\n",
              "      <td>Dollars</td>\n",
              "      <td>Thousands</td>\n",
              "      <td>LEED</td>\n",
              "      <td>582377.0</td>\n",
              "      <td>F</td>\n",
              "    </tr>\n",
              "    <tr>\n",
              "      <th>6</th>\n",
              "      <td>2007</td>\n",
              "      <td>Fisheries and aquaculture</td>\n",
              "      <td>Wage and salary earners</td>\n",
              "      <td>Number</td>\n",
              "      <td>Actual</td>\n",
              "      <td>LEED</td>\n",
              "      <td>14004.0</td>\n",
              "      <td>F</td>\n",
              "    </tr>\n",
              "    <tr>\n",
              "      <th>7</th>\n",
              "      <td>2008</td>\n",
              "      <td>Fisheries and aquaculture</td>\n",
              "      <td>Cont. to ME Wage and salary earners</td>\n",
              "      <td>Proportion</td>\n",
              "      <td>Actual</td>\n",
              "      <td>LEED</td>\n",
              "      <td>39.9</td>\n",
              "      <td>R</td>\n",
              "    </tr>\n",
              "    <tr>\n",
              "      <th>8</th>\n",
              "      <td>2008</td>\n",
              "      <td>Fisheries and aquaculture</td>\n",
              "      <td>Contribution to marine economy GDP</td>\n",
              "      <td>Proportion</td>\n",
              "      <td>Actual</td>\n",
              "      <td>Environmental Accounts</td>\n",
              "      <td>14.2</td>\n",
              "      <td>F</td>\n",
              "    </tr>\n",
              "    <tr>\n",
              "      <th>9</th>\n",
              "      <td>2008</td>\n",
              "      <td>Fisheries and aquaculture</td>\n",
              "      <td>Contribution to marine economy earnings</td>\n",
              "      <td>Proportion</td>\n",
              "      <td>Actual</td>\n",
              "      <td>LEED</td>\n",
              "      <td>40.3</td>\n",
              "      <td>R</td>\n",
              "    </tr>\n",
              "    <tr>\n",
              "      <th>10</th>\n",
              "      <td>2008</td>\n",
              "      <td>Fisheries and aquaculture</td>\n",
              "      <td>Contribution to total GDP</td>\n",
              "      <td>Proportion</td>\n",
              "      <td>Actual</td>\n",
              "      <td>Environmental Accounts</td>\n",
              "      <td>0.3</td>\n",
              "      <td>F</td>\n",
              "    </tr>\n",
              "    <tr>\n",
              "      <th>11</th>\n",
              "      <td>2008</td>\n",
              "      <td>Fisheries and aquaculture</td>\n",
              "      <td>GDP</td>\n",
              "      <td>Dollars</td>\n",
              "      <td>Thousands</td>\n",
              "      <td>Environmental Accounts</td>\n",
              "      <td>564630.0</td>\n",
              "      <td>F</td>\n",
              "    </tr>\n",
              "    <tr>\n",
              "      <th>12</th>\n",
              "      <td>2008</td>\n",
              "      <td>Fisheries and aquaculture</td>\n",
              "      <td>Gross earnings</td>\n",
              "      <td>Dollars</td>\n",
              "      <td>Thousands</td>\n",
              "      <td>LEED</td>\n",
              "      <td>583605.0</td>\n",
              "      <td>F</td>\n",
              "    </tr>\n",
              "    <tr>\n",
              "      <th>13</th>\n",
              "      <td>2008</td>\n",
              "      <td>Fisheries and aquaculture</td>\n",
              "      <td>Wage and salary earners</td>\n",
              "      <td>Number</td>\n",
              "      <td>Actual</td>\n",
              "      <td>LEED</td>\n",
              "      <td>12774.0</td>\n",
              "      <td>F</td>\n",
              "    </tr>\n",
              "    <tr>\n",
              "      <th>14</th>\n",
              "      <td>2009</td>\n",
              "      <td>Fisheries and aquaculture</td>\n",
              "      <td>Cont. to ME Wage and salary earners</td>\n",
              "      <td>Proportion</td>\n",
              "      <td>Actual</td>\n",
              "      <td>LEED</td>\n",
              "      <td>35.6</td>\n",
              "      <td>R</td>\n",
              "    </tr>\n",
              "    <tr>\n",
              "      <th>15</th>\n",
              "      <td>2009</td>\n",
              "      <td>Fisheries and aquaculture</td>\n",
              "      <td>Contribution to marine economy GDP</td>\n",
              "      <td>Proportion</td>\n",
              "      <td>Actual</td>\n",
              "      <td>Environmental Accounts</td>\n",
              "      <td>17.0</td>\n",
              "      <td>F</td>\n",
              "    </tr>\n",
              "    <tr>\n",
              "      <th>16</th>\n",
              "      <td>2009</td>\n",
              "      <td>Fisheries and aquaculture</td>\n",
              "      <td>Contribution to marine economy earnings</td>\n",
              "      <td>Proportion</td>\n",
              "      <td>Actual</td>\n",
              "      <td>LEED</td>\n",
              "      <td>38.3</td>\n",
              "      <td>R</td>\n",
              "    </tr>\n",
              "    <tr>\n",
              "      <th>17</th>\n",
              "      <td>2009</td>\n",
              "      <td>Fisheries and aquaculture</td>\n",
              "      <td>Contribution to total GDP</td>\n",
              "      <td>Proportion</td>\n",
              "      <td>Actual</td>\n",
              "      <td>Environmental Accounts</td>\n",
              "      <td>0.4</td>\n",
              "      <td>F</td>\n",
              "    </tr>\n",
              "    <tr>\n",
              "      <th>18</th>\n",
              "      <td>2009</td>\n",
              "      <td>Fisheries and aquaculture</td>\n",
              "      <td>GDP</td>\n",
              "      <td>Dollars</td>\n",
              "      <td>Thousands</td>\n",
              "      <td>Environmental Accounts</td>\n",
              "      <td>688801.0</td>\n",
              "      <td>F</td>\n",
              "    </tr>\n",
              "    <tr>\n",
              "      <th>19</th>\n",
              "      <td>2009</td>\n",
              "      <td>Fisheries and aquaculture</td>\n",
              "      <td>Gross earnings</td>\n",
              "      <td>Dollars</td>\n",
              "      <td>Thousands</td>\n",
              "      <td>LEED</td>\n",
              "      <td>567367.0</td>\n",
              "      <td>F</td>\n",
              "    </tr>\n",
              "  </tbody>\n",
              "</table>\n",
              "</div>"
            ],
            "text/plain": [
              "    year                   category  ... data_value flag\n",
              "0   2007  Fisheries and aquaculture  ...       43.1    R\n",
              "1   2007  Fisheries and aquaculture  ...       26.3    F\n",
              "2   2007  Fisheries and aquaculture  ...       42.7    R\n",
              "3   2007  Fisheries and aquaculture  ...        0.4    F\n",
              "4   2007  Fisheries and aquaculture  ...   715722.0    F\n",
              "5   2007  Fisheries and aquaculture  ...   582377.0    F\n",
              "6   2007  Fisheries and aquaculture  ...    14004.0    F\n",
              "7   2008  Fisheries and aquaculture  ...       39.9    R\n",
              "8   2008  Fisheries and aquaculture  ...       14.2    F\n",
              "9   2008  Fisheries and aquaculture  ...       40.3    R\n",
              "10  2008  Fisheries and aquaculture  ...        0.3    F\n",
              "11  2008  Fisheries and aquaculture  ...   564630.0    F\n",
              "12  2008  Fisheries and aquaculture  ...   583605.0    F\n",
              "13  2008  Fisheries and aquaculture  ...    12774.0    F\n",
              "14  2009  Fisheries and aquaculture  ...       35.6    R\n",
              "15  2009  Fisheries and aquaculture  ...       17.0    F\n",
              "16  2009  Fisheries and aquaculture  ...       38.3    R\n",
              "17  2009  Fisheries and aquaculture  ...        0.4    F\n",
              "18  2009  Fisheries and aquaculture  ...   688801.0    F\n",
              "19  2009  Fisheries and aquaculture  ...   567367.0    F\n",
              "\n",
              "[20 rows x 8 columns]"
            ]
          },
          "metadata": {
            "tags": []
          },
          "execution_count": 39
        }
      ]
    },
    {
      "cell_type": "code",
      "metadata": {
        "id": "-vKie7FvXlrh",
        "colab_type": "code",
        "colab": {
          "base_uri": "https://localhost:8080/",
          "height": 433
        },
        "outputId": "b1f09412-6322-4fc2-fb63-06f3aef069ae"
      },
      "source": [
        "dataframe[dataframe['data_value']>=1000]"
      ],
      "execution_count": 40,
      "outputs": [
        {
          "output_type": "execute_result",
          "data": {
            "text/html": [
              "<div>\n",
              "<style scoped>\n",
              "    .dataframe tbody tr th:only-of-type {\n",
              "        vertical-align: middle;\n",
              "    }\n",
              "\n",
              "    .dataframe tbody tr th {\n",
              "        vertical-align: top;\n",
              "    }\n",
              "\n",
              "    .dataframe thead th {\n",
              "        text-align: right;\n",
              "    }\n",
              "</style>\n",
              "<table border=\"1\" class=\"dataframe\">\n",
              "  <thead>\n",
              "    <tr style=\"text-align: right;\">\n",
              "      <th></th>\n",
              "      <th>year</th>\n",
              "      <th>category</th>\n",
              "      <th>variable</th>\n",
              "      <th>units</th>\n",
              "      <th>magnitude</th>\n",
              "      <th>source</th>\n",
              "      <th>data_value</th>\n",
              "      <th>flag</th>\n",
              "    </tr>\n",
              "  </thead>\n",
              "  <tbody>\n",
              "    <tr>\n",
              "      <th>4</th>\n",
              "      <td>2007</td>\n",
              "      <td>Fisheries and aquaculture</td>\n",
              "      <td>GDP</td>\n",
              "      <td>Dollars</td>\n",
              "      <td>Thousands</td>\n",
              "      <td>Environmental Accounts</td>\n",
              "      <td>715722.0</td>\n",
              "      <td>F</td>\n",
              "    </tr>\n",
              "    <tr>\n",
              "      <th>5</th>\n",
              "      <td>2007</td>\n",
              "      <td>Fisheries and aquaculture</td>\n",
              "      <td>Gross earnings</td>\n",
              "      <td>Dollars</td>\n",
              "      <td>Thousands</td>\n",
              "      <td>LEED</td>\n",
              "      <td>582377.0</td>\n",
              "      <td>F</td>\n",
              "    </tr>\n",
              "    <tr>\n",
              "      <th>6</th>\n",
              "      <td>2007</td>\n",
              "      <td>Fisheries and aquaculture</td>\n",
              "      <td>Wage and salary earners</td>\n",
              "      <td>Number</td>\n",
              "      <td>Actual</td>\n",
              "      <td>LEED</td>\n",
              "      <td>14004.0</td>\n",
              "      <td>F</td>\n",
              "    </tr>\n",
              "    <tr>\n",
              "      <th>11</th>\n",
              "      <td>2008</td>\n",
              "      <td>Fisheries and aquaculture</td>\n",
              "      <td>GDP</td>\n",
              "      <td>Dollars</td>\n",
              "      <td>Thousands</td>\n",
              "      <td>Environmental Accounts</td>\n",
              "      <td>564630.0</td>\n",
              "      <td>F</td>\n",
              "    </tr>\n",
              "    <tr>\n",
              "      <th>12</th>\n",
              "      <td>2008</td>\n",
              "      <td>Fisheries and aquaculture</td>\n",
              "      <td>Gross earnings</td>\n",
              "      <td>Dollars</td>\n",
              "      <td>Thousands</td>\n",
              "      <td>LEED</td>\n",
              "      <td>583605.0</td>\n",
              "      <td>F</td>\n",
              "    </tr>\n",
              "    <tr>\n",
              "      <th>13</th>\n",
              "      <td>2008</td>\n",
              "      <td>Fisheries and aquaculture</td>\n",
              "      <td>Wage and salary earners</td>\n",
              "      <td>Number</td>\n",
              "      <td>Actual</td>\n",
              "      <td>LEED</td>\n",
              "      <td>12774.0</td>\n",
              "      <td>F</td>\n",
              "    </tr>\n",
              "    <tr>\n",
              "      <th>18</th>\n",
              "      <td>2009</td>\n",
              "      <td>Fisheries and aquaculture</td>\n",
              "      <td>GDP</td>\n",
              "      <td>Dollars</td>\n",
              "      <td>Thousands</td>\n",
              "      <td>Environmental Accounts</td>\n",
              "      <td>688801.0</td>\n",
              "      <td>F</td>\n",
              "    </tr>\n",
              "    <tr>\n",
              "      <th>19</th>\n",
              "      <td>2009</td>\n",
              "      <td>Fisheries and aquaculture</td>\n",
              "      <td>Gross earnings</td>\n",
              "      <td>Dollars</td>\n",
              "      <td>Thousands</td>\n",
              "      <td>LEED</td>\n",
              "      <td>567367.0</td>\n",
              "      <td>F</td>\n",
              "    </tr>\n",
              "  </tbody>\n",
              "</table>\n",
              "</div>"
            ],
            "text/plain": [
              "    year                   category  ... data_value flag\n",
              "4   2007  Fisheries and aquaculture  ...   715722.0    F\n",
              "5   2007  Fisheries and aquaculture  ...   582377.0    F\n",
              "6   2007  Fisheries and aquaculture  ...    14004.0    F\n",
              "11  2008  Fisheries and aquaculture  ...   564630.0    F\n",
              "12  2008  Fisheries and aquaculture  ...   583605.0    F\n",
              "13  2008  Fisheries and aquaculture  ...    12774.0    F\n",
              "18  2009  Fisheries and aquaculture  ...   688801.0    F\n",
              "19  2009  Fisheries and aquaculture  ...   567367.0    F\n",
              "\n",
              "[8 rows x 8 columns]"
            ]
          },
          "metadata": {
            "tags": []
          },
          "execution_count": 40
        }
      ]
    },
    {
      "cell_type": "code",
      "metadata": {
        "id": "pZQc7vqCXl6F",
        "colab_type": "code",
        "colab": {
          "base_uri": "https://localhost:8080/",
          "height": 173
        },
        "outputId": "34faa73b-eb32-4876-d538-68e7bbf8d29a"
      },
      "source": [
        "dataframe[dataframe['data_value']>=1000]['year']"
      ],
      "execution_count": 41,
      "outputs": [
        {
          "output_type": "execute_result",
          "data": {
            "text/plain": [
              "4     2007\n",
              "5     2007\n",
              "6     2007\n",
              "11    2008\n",
              "12    2008\n",
              "13    2008\n",
              "18    2009\n",
              "19    2009\n",
              "Name: year, dtype: int64"
            ]
          },
          "metadata": {
            "tags": []
          },
          "execution_count": 41
        }
      ]
    },
    {
      "cell_type": "code",
      "metadata": {
        "id": "iTyyrYAgXmKE",
        "colab_type": "code",
        "colab": {}
      },
      "source": [
        ""
      ],
      "execution_count": 0,
      "outputs": []
    },
    {
      "cell_type": "markdown",
      "metadata": {
        "id": "3g7zI-u4r1Qs",
        "colab_type": "text"
      },
      "source": [
        "from google.colab import drive\n",
        "drive.mount('/content/gdrive')"
      ]
    }
  ]
}